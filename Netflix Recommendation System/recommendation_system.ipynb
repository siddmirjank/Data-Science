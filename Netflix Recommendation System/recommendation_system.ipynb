{
 "cells": [
  {
   "cell_type": "markdown",
   "metadata": {},
   "source": [
    "# Recommendation System"
   ]
  },
  {
   "cell_type": "code",
   "execution_count": 1,
   "metadata": {},
   "outputs": [],
   "source": [
    "# Importing required libraries\n",
    "import numpy as np\n",
    "import pandas as pd\n",
    "import os"
   ]
  },
  {
   "cell_type": "code",
   "execution_count": 2,
   "metadata": {},
   "outputs": [
    {
     "data": {
      "text/plain": [
       "'C:\\\\Users\\\\Siddhesh\\\\Desktop\\\\Siddhesh\\\\Projects\\\\Netflix Shows\\\\Final_Data'"
      ]
     },
     "execution_count": 2,
     "metadata": {},
     "output_type": "execute_result"
    }
   ],
   "source": [
    "# Changing the directory\n",
    "os.chdir(\"C:/Users/Siddhesh/Desktop/Siddhesh/Projects/Netflix Shows/Final_Data\")\n",
    "\n",
    "# Confirming the current directory\n",
    "os.getcwd()"
   ]
  },
  {
   "cell_type": "code",
   "execution_count": 3,
   "metadata": {},
   "outputs": [],
   "source": [
    "# Creating a function to recommend movies based on content filtering\n",
    "def recommend(data, user_title):\n",
    "    \n",
    "    # Retrieving the title of the show\n",
    "    show_title = data[data.title == user_title]\n",
    "\n",
    "    # Retrieving the genre and rating of the show\n",
    "    show_genre = show_title.genre.values[0]\n",
    "    show_rating = show_title.rating.values[0]\n",
    "\n",
    "    # Filtering the data based on genre\n",
    "    filtered_data = data[data.genre == show_genre]\n",
    "\n",
    "    # Filtering the data based on rating\n",
    "    filtered_data = filtered_data[filtered_data.rating == show_rating]\n",
    "\n",
    "    # Yielding the data\n",
    "    for show in filtered_data.title.values:\n",
    "        yield show"
   ]
  },
  {
   "cell_type": "code",
   "execution_count": 4,
   "metadata": {},
   "outputs": [
    {
     "name": "stdout",
     "output_type": "stream",
     "text": [
      "The shows you'll like are :\n",
      "\n",
      "706\n",
      "A Haunting at Silver Falls: The Return\n",
      "Aaviri\n",
      "Adrishya\n",
      "Agyaat\n",
      "Andhaghaaram\n",
      "Andhakaaram\n",
      "Deadcon\n",
      "Eerie\n",
      "Hide & Seek\n",
      "His House\n",
      "Horror Story\n",
      "I Am the Pretty Thing That Lives in the House\n",
      "Kaal\n",
      "Kaali Khuhi\n",
      "Kanika\n",
      "Kuntilanak\n",
      "Lupt\n",
      "Mercy Black\n",
      "Pagpag: Nine Lives\n",
      "Paranormal Investigation\n",
      "Pari\n",
      "Pizza\n",
      "Revenge of the Pontianak\n",
      "Savita Damodar Paranjpe\n",
      "Soul Robbers\n",
      "The Blue Elephant 2\n",
      "The Detained\n",
      "The Figurine (Araromire)\n",
      "The Secret\n",
      "The Witch Files\n",
      "Warda\n"
     ]
    }
   ],
   "source": [
    "# Loading the data\n",
    "data = pd.read_csv(\"final_sorted_data.csv\", index_col=False)\n",
    "\n",
    "# Retrieving the titles of the movie/tv-show\n",
    "titles = data.title.values\n",
    "\n",
    "# Recommending shows to the user\n",
    "recommended_shows = recommend(data, titles[8])\n",
    "\n",
    "# Displaying the data\n",
    "print(\"The shows you'll like are :\\n\")\n",
    "\n",
    "# Displaying the data\n",
    "for show in recommended_shows:\n",
    "    print(show)"
   ]
  }
 ],
 "metadata": {
  "kernelspec": {
   "display_name": "Python 3",
   "language": "python",
   "name": "python3"
  },
  "language_info": {
   "codemirror_mode": {
    "name": "ipython",
    "version": 3
   },
   "file_extension": ".py",
   "mimetype": "text/x-python",
   "name": "python",
   "nbconvert_exporter": "python",
   "pygments_lexer": "ipython3",
   "version": "3.7.6"
  }
 },
 "nbformat": 4,
 "nbformat_minor": 4
}
